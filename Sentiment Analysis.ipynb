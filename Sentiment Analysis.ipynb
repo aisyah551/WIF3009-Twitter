{
 "cells": [
  {
   "cell_type": "code",
   "execution_count": 1,
   "id": "17fcb4e1-8bb4-4e6b-874a-ab1b236954bf",
   "metadata": {},
   "outputs": [
    {
     "name": "stdout",
     "output_type": "stream",
     "text": [
      "4.0.0-rc.1\n"
     ]
    }
   ],
   "source": [
    "import googletrans\n",
    "print(googletrans.__version__)"
   ]
  },
  {
   "cell_type": "code",
   "execution_count": 3,
   "id": "a6cadc62-9c69-4c96-bab4-aec2f46d155a",
   "metadata": {},
   "outputs": [
    {
     "name": "stdout",
     "output_type": "stream",
     "text": [
      "Bonjour\n"
     ]
    }
   ],
   "source": [
    "# Test code for googletrans library\n",
    "from googletrans import Translator\n",
    "\n",
    "translator = Translator()\n",
    "result = translator.translate(\"Bonjour\", dest='en')\n",
    "print(result.text)"
   ]
  },
  {
   "cell_type": "code",
   "execution_count": 37,
   "id": "a3c9a335-c961-483c-a0c0-0c6aa5f2419c",
   "metadata": {},
   "outputs": [
    {
     "name": "stdout",
     "output_type": "stream",
     "text": [
      "   created_at text media_type media_url  views_count  quote_count  like_count  \\\n",
      "21        NaN  NaN        NaN       NaN            0          108           0   \n",
      "22        NaN  NaN        NaN       NaN            0          108           0   \n",
      "32        NaN  NaN        NaN       NaN            0          108           0   \n",
      "\n",
      "    reply_count  retweet_count language translated_text  sentiment_score  \\\n",
      "21            0              0      NaN             NaN              NaN   \n",
      "22            0              0      NaN             NaN              NaN   \n",
      "32            0              0      NaN             NaN              NaN   \n",
      "\n",
      "   sentiment_label date  \n",
      "21             NaN  NaN  \n",
      "22             NaN  NaN  \n",
      "32             NaN  NaN   \n",
      "\n",
      "Empty DataFrame\n",
      "Columns: [created_at, text, media_type, media_url, views_count, quote_count, like_count, reply_count, retweet_count, language, translated_text, sentiment_score, sentiment_label, date]\n",
      "Index: []\n"
     ]
    }
   ],
   "source": [
    "import pandas as pd\n",
    "\n",
    "# Load data\n",
    "df = pd.read_csv(\"keyword_ishowspeed_tweets.csv\")\n",
    "\n",
    "# Data Cleaning\n",
    "# Display rows with empty text value\n",
    "print(df[df[\"text\"].isna()], \"\\n\")\n",
    "\n",
    "# Delete all entries where the text is empty\n",
    "df.dropna(subset=[\"text\"], inplace=True)\n",
    "\n",
    "# Drop tweet with language code \"zxx\" \n",
    "# \"zxx\" language code means \"No linguistic content\", used when there is no natural language present as the tweet's text only contains URLs or links\n",
    "df.drop(index=18, inplace=True)\n",
    "\n",
    "# Reset index after dropping some entries\n",
    "df.reset_index(drop=True, inplace=True)\n",
    "\n",
    "print(df[df[\"text\"].isna()])\n",
    "\n",
    "# Clean HTML entites (e.g., &amp -> &)\n",
    "df['text'] = df['text'].apply(lambda x: html.unescape(x) if pd.notnull(x) else x)"
   ]
  },
  {
   "cell_type": "code",
   "execution_count": 19,
   "id": "44ae826b-9801-4e3e-b3c4-4303b6fb8e4c",
   "metadata": {},
   "outputs": [
    {
     "name": "stdout",
     "output_type": "stream",
     "text": [
      "                                                 text language  \\\n",
      "0   🚨| WATCH: Speed just met Fabrizio Romano and g...       en   \n",
      "1   Khabib & IShowSpeed wtf \\n#UCLfinal  🤯 https:/...       en   \n",
      "2   ISHOWSPEED CÉLÈBRE ACTUELLEMENT LA VICTOIRE AV...       en   \n",
      "3   IShowSpeed a soulevé le trophée de la Ligue de...       fr   \n",
      "4   Usain Bolt has offered IShowSpeed private coac...       en   \n",
      "5   iShowSpeed \"One Kiss Is All It Takes\" Rage (20...       en   \n",
      "6   🇺🇸 ISHOWSPEED x DÉSIRÉ DOUÉ 🇫🇷 \\n\\nDEUX GÉNIES...       de   \n",
      "7   iShowSpeed, American YouTuber,  Stands with  P...       en   \n",
      "8   IShowSpeed linking up with Dembélé 🇫🇷 before t...       en   \n",
      "9   IShowSpeed met Fabrizio Romano and got him to ...       en   \n",
      "10  🚨 LA RÉACTION D’ISHOWSPEED APRÈS LE MAGNIFIQUE...       de   \n",
      "11  Ishowspeed lift a UCL trophy before Arsenal 😭😭...       en   \n",
      "12  Achraf Hakimi a accepté de faire la course ave...       fr   \n",
      "13  IShowSpeed just met Tom Brady and his entire f...       en   \n",
      "14  IShowSpeed a proposé au footballeur Ousmane De...       fr   \n",
      "15  La rencontre entre Désiré Doué et iShowSpeed c...       fr   \n",
      "16   Marcelo with IShowSpeed. https://t.co/L9bJgwvskR       en   \n",
      "17  “I’m from Israel”  \\n\\niShowSpeed: “….Free Pal...       en   \n",
      "\n",
      "                                      translated_text  \n",
      "0   🚨| WATCH: Speed just met Fabrizio Romano and g...  \n",
      "1   Khabib & IShowSpeed wtf \\n#UCLfinal  🤯 https:/...  \n",
      "2   ISHOWSPEED CÉLÈBRE ACTUELLEMENT LA VICTOIRE AV...  \n",
      "3   Ishowspeed raised the trophy of the Champions ...  \n",
      "4   Usain Bolt has offered IShowSpeed private coac...  \n",
      "5   iShowSpeed \"One Kiss Is All It Takes\" Rage (20...  \n",
      "6   🇺🇸 Ishowspeed x desired gifted 🇫🇷\\n\\nTwo geniu...  \n",
      "7   iShowSpeed, American YouTuber,  Stands with  P...  \n",
      "8   IShowSpeed linking up with Dembélé 🇫🇷 before t...  \n",
      "9   IShowSpeed met Fabrizio Romano and got him to ...  \n",
      "10  🚨 Ishowspeed's reaction after the magnificent ...  \n",
      "11  Ishowspeed lift a UCL trophy before Arsenal 😭😭...  \n",
      "12  Achraf Hakimi agreed to race with Ishowspeed.🤣...  \n",
      "13  IShowSpeed just met Tom Brady and his entire f...  \n",
      "14  Ishowspeed offered the footballer Ousmane Demb...  \n",
      "15  The meeting between Désiré Doué and Ishowspeed...  \n",
      "16   Marcelo with IShowSpeed. https://t.co/L9bJgwvskR  \n",
      "17  “I’m from Israel”  \\n\\niShowSpeed: “….Free Pal...  \n"
     ]
    }
   ],
   "source": [
    "# First collection of tweets\n",
    "import html\n",
    "from langdetect import detect\n",
    "from googletrans import Translator\n",
    "\n",
    "# Some tweets are not in English. Hence, we need to detect the language of the text and translate them to English\n",
    "translator = Translator()\n",
    "\n",
    "# Detect language \n",
    "df['language'] = df['text'].apply(lambda x: detect(x) if pd.notnull(x) else None)\n",
    "\n",
    "# Translate only non-English tweets\n",
    "# Return orginal text if encounter tweets already in English\n",
    "def translate_if_needed(text, lang):\n",
    "    try:\n",
    "        if lang != 'en':\n",
    "            return translator.translate(text, dest='en').text\n",
    "        return text  # Already in English\n",
    "    except:\n",
    "        return text  # If translation fails, return original\n",
    "\n",
    "df['translated_text'] = df.apply(lambda row: translate_if_needed(row['text'], row['language']), axis=1)\n",
    "print(df[['text', 'language', 'translated_text']])"
   ]
  },
  {
   "cell_type": "code",
   "execution_count": 20,
   "id": "ef7b0578-67c3-42d6-9669-1d26ea14c51d",
   "metadata": {},
   "outputs": [],
   "source": [
    "df.to_csv(\"keyword_ishowspeed_tweets.csv\", index=False)"
   ]
  },
  {
   "cell_type": "code",
   "execution_count": 23,
   "id": "26b37522-28e8-448a-87a9-d5cb93b38a90",
   "metadata": {},
   "outputs": [
    {
     "name": "stdout",
     "output_type": "stream",
     "text": [
      "                                                 text language  \\\n",
      "0   🚨| WATCH: Speed just met Fabrizio Romano and g...       en   \n",
      "1   Khabib & IShowSpeed wtf \\n#UCLfinal  🤯 https:/...       en   \n",
      "2   ISHOWSPEED CÉLÈBRE ACTUELLEMENT LA VICTOIRE AV...       fr   \n",
      "3   IShowSpeed a soulevé le trophée de la Ligue de...       fr   \n",
      "4   Usain Bolt has offered IShowSpeed private coac...       en   \n",
      "5   iShowSpeed \"One Kiss Is All It Takes\" Rage (20...       en   \n",
      "6   🇺🇸 ISHOWSPEED x DÉSIRÉ DOUÉ 🇫🇷 \\n\\nDEUX GÉNIES...       de   \n",
      "7   iShowSpeed, American YouTuber,  Stands with  P...       en   \n",
      "8   IShowSpeed linking up with Dembélé 🇫🇷 before t...       en   \n",
      "9   IShowSpeed met Fabrizio Romano and got him to ...       en   \n",
      "10  🚨 LA RÉACTION D’ISHOWSPEED APRÈS LE MAGNIFIQUE...       de   \n",
      "11  Ishowspeed lift a UCL trophy before Arsenal 😭😭...       en   \n",
      "12  Achraf Hakimi a accepté de faire la course ave...       fr   \n",
      "13  IShowSpeed just met Tom Brady and his entire f...       en   \n",
      "14  IShowSpeed a proposé au footballeur Ousmane De...       fr   \n",
      "15  La rencontre entre Désiré Doué et iShowSpeed c...       fr   \n",
      "16   Marcelo with IShowSpeed. https://t.co/L9bJgwvskR       en   \n",
      "17  “I’m from Israel”  \\n\\niShowSpeed: “….Free Pal...       en   \n",
      "\n",
      "                                      translated_text  \n",
      "0   🚨| WATCH: Speed just met Fabrizio Romano and g...  \n",
      "1   Khabib & IShowSpeed wtf \\n#UCLfinal  🤯 https:/...  \n",
      "2   Ishowspeed is currently celebrating the victor...  \n",
      "3   Ishowspeed raised the trophy of the Champions ...  \n",
      "4   Usain Bolt has offered IShowSpeed private coac...  \n",
      "5   iShowSpeed \"One Kiss Is All It Takes\" Rage (20...  \n",
      "6   🇺🇸 Ishowspeed x desired gifted 🇫🇷\\n\\nTwo geniu...  \n",
      "7   iShowSpeed, American YouTuber,  Stands with  P...  \n",
      "8   IShowSpeed linking up with Dembélé 🇫🇷 before t...  \n",
      "9   IShowSpeed met Fabrizio Romano and got him to ...  \n",
      "10  🚨 Ishowspeed's reaction after the magnificent ...  \n",
      "11  Ishowspeed lift a UCL trophy before Arsenal 😭😭...  \n",
      "12  Achraf Hakimi agreed to race with Ishowspeed.🤣...  \n",
      "13  IShowSpeed just met Tom Brady and his entire f...  \n",
      "14  Ishowspeed offered the footballer Ousmane Demb...  \n",
      "15  The meeting between Désiré Doué and Ishowspeed...  \n",
      "16   Marcelo with IShowSpeed. https://t.co/L9bJgwvskR  \n",
      "17  “I’m from Israel”  \\n\\niShowSpeed: “….Free Pal...  \n"
     ]
    }
   ],
   "source": [
    "# Even after using googletrans to detect the language of the tweets, \n",
    "# the translator failed to detect the language of the tweet at index 2, where it says the language is en (english) when it is clearly not.\n",
    "# So in this case, we manually detect the language and manually enter the language for tweet at index 2.\n",
    "\n",
    "# The language of the tweet at index 2 is french (fr)\n",
    "df.loc[2, 'language'] = 'fr'\n",
    "\n",
    "# Now we update the translated_text column of the tweet at index 2\n",
    "df.loc[2, 'translated_text'] = translate_if_needed(df.loc[2, 'text'], df.loc[2, 'language'])\n",
    "\n",
    "print(df[['text', 'language', 'translated_text']])"
   ]
  },
  {
   "cell_type": "code",
   "execution_count": 24,
   "id": "df68bcda-54f4-4ee7-b6cc-8f496c278050",
   "metadata": {},
   "outputs": [],
   "source": [
    "# Save the modifications to the \"keyword_ishowspeed_tweets.csv\" file\n",
    "df.to_csv(\"keyword_ishowspeed_tweets.csv\", index=False)"
   ]
  },
  {
   "cell_type": "code",
   "execution_count": 38,
   "id": "291c57de-f265-40f6-9315-0530f06a9d9d",
   "metadata": {},
   "outputs": [],
   "source": [
    "# Second collection of tweets\n",
    "# Save the modifications first\n",
    "df.to_csv(\"keyword_ishowspeed_tweets.csv\", index=False)"
   ]
  },
  {
   "cell_type": "code",
   "execution_count": 39,
   "id": "82e9e62a-0dfc-4550-a35d-38e3bae3d1bf",
   "metadata": {},
   "outputs": [
    {
     "name": "stdout",
     "output_type": "stream",
     "text": [
      "                                                 text language  \\\n",
      "0   🚨| WATCH: Speed just met Fabrizio Romano and g...       en   \n",
      "1   Khabib & IShowSpeed wtf \\n#UCLfinal  🤯 https:/...       en   \n",
      "2   ISHOWSPEED CÉLÈBRE ACTUELLEMENT LA VICTOIRE AV...       fr   \n",
      "3   IShowSpeed a soulevé le trophée de la Ligue de...       fr   \n",
      "4   Usain Bolt has offered IShowSpeed private coac...       en   \n",
      "5   iShowSpeed \"One Kiss Is All It Takes\" Rage (20...       en   \n",
      "6   🇺🇸 ISHOWSPEED x DÉSIRÉ DOUÉ 🇫🇷 \\n\\nDEUX GÉNIES...       de   \n",
      "7   iShowSpeed, American YouTuber,  Stands with  P...       en   \n",
      "8   IShowSpeed linking up with Dembélé 🇫🇷 before t...       en   \n",
      "9   IShowSpeed met Fabrizio Romano and got him to ...       en   \n",
      "10  🚨 LA RÉACTION D’ISHOWSPEED APRÈS LE MAGNIFIQUE...       de   \n",
      "11  Ishowspeed lift a UCL trophy before Arsenal 😭😭...       en   \n",
      "12  Achraf Hakimi a accepté de faire la course ave...       fr   \n",
      "13  IShowSpeed just met Tom Brady and his entire f...       en   \n",
      "14  IShowSpeed a proposé au footballeur Ousmane De...       fr   \n",
      "15  La rencontre entre Désiré Doué et iShowSpeed c...       fr   \n",
      "16   Marcelo with IShowSpeed. https://t.co/L9bJgwvskR       en   \n",
      "17  “I’m from Israel”  \\n\\niShowSpeed: “….Free Pal...       en   \n",
      "18  iShowSpeed launched himself into his setup aft...       en   \n",
      "19  iShowSpeed understood what his Brazilian frien...       en   \n",
      "20  #KeralaBlasters legend @Humey_7's Instagram st...       en   \n",
      "21   Los Colgaos x ishowspeed https://t.co/LZsSFMFYKy       en   \n",
      "22  Remember when Ronaldo scored against Germany a...       en   \n",
      "23  IShowSpeed has officially hit 40 million subs ...       en   \n",
      "24  ishowspeed laser/lazer eyes gif (made by me) h...       en   \n",
      "25  iShowSpeed couldn’t believe his eyes 💀\\n https...       en   \n",
      "26  iShowSpeed, American YouTuber,  Stands with  P...       en   \n",
      "27  iShowSpeed was gifted a \"FREE PALESTINE\" shirt...       en   \n",
      "28  @HedorahTheSm0g is it tho https://t.co/S9R5KcjlcA       en   \n",
      "29  this was the first clip i ever saw from ishows...       en   \n",
      "30  iShowSpeed, American YouTuber,  Stands with  P...       en   \n",
      "31  🚨 ISHOWSPEED VIENT DE FRANCHIR LA BARRE DES 40...       fr   \n",
      "32  Ishowspeed can be this calm? Love is a beautif...       en   \n",
      "\n",
      "                                      translated_text  \n",
      "0   🚨| WATCH: Speed just met Fabrizio Romano and g...  \n",
      "1   Khabib & IShowSpeed wtf \\n#UCLfinal  🤯 https:/...  \n",
      "2   Ishowspeed is currently celebrating the victor...  \n",
      "3   Ishowspeed raised the trophy of the Champions ...  \n",
      "4   Usain Bolt has offered IShowSpeed private coac...  \n",
      "5   iShowSpeed \"One Kiss Is All It Takes\" Rage (20...  \n",
      "6   🇺🇸 Ishowspeed x desired gifted 🇫🇷\\n\\nTwo geniu...  \n",
      "7   iShowSpeed, American YouTuber,  Stands with  P...  \n",
      "8   IShowSpeed linking up with Dembélé 🇫🇷 before t...  \n",
      "9   IShowSpeed met Fabrizio Romano and got him to ...  \n",
      "10  🚨 Ishowspeed's reaction after the magnificent ...  \n",
      "11  Ishowspeed lift a UCL trophy before Arsenal 😭😭...  \n",
      "12  Achraf Hakimi agreed to race with Ishowspeed.🤣...  \n",
      "13  IShowSpeed just met Tom Brady and his entire f...  \n",
      "14  Ishowspeed offered the footballer Ousmane Demb...  \n",
      "15  The meeting between Désiré Doué and Ishowspeed...  \n",
      "16   Marcelo with IShowSpeed. https://t.co/L9bJgwvskR  \n",
      "17  “I’m from Israel”  \\n\\niShowSpeed: “….Free Pal...  \n",
      "18  iShowSpeed launched himself into his setup aft...  \n",
      "19  iShowSpeed understood what his Brazilian frien...  \n",
      "20  #KeralaBlasters legend @Humey_7's Instagram st...  \n",
      "21   Los Colgaos x ishowspeed https://t.co/LZsSFMFYKy  \n",
      "22  Remember when Ronaldo scored against Germany a...  \n",
      "23  IShowSpeed has officially hit 40 million subs ...  \n",
      "24  ishowspeed laser/lazer eyes gif (made by me) h...  \n",
      "25  iShowSpeed couldn’t believe his eyes 💀\\n https...  \n",
      "26  iShowSpeed, American YouTuber,  Stands with  P...  \n",
      "27  iShowSpeed was gifted a \"FREE PALESTINE\" shirt...  \n",
      "28  @HedorahTheSm0g is it tho https://t.co/S9R5KcjlcA  \n",
      "29  this was the first clip i ever saw from ishows...  \n",
      "30  iShowSpeed, American YouTuber,  Stands with  P...  \n",
      "31  🚨 Ishowspeed has just crossed the 40 million s...  \n",
      "32  Ishowspeed can be this calm? Love is a beautif...  \n"
     ]
    }
   ],
   "source": [
    "# Now we update the translated_text of second collection tweets\n",
    "df.loc[18:, 'translated_text'] = df.loc[18:].apply(lambda row: translate_if_needed(row['text'], row['language']), axis=1)\n",
    "\n",
    "print(df[['text', 'language', 'translated_text']])"
   ]
  },
  {
   "cell_type": "code",
   "execution_count": 40,
   "id": "5147bb28-9528-43a1-8af1-789508d5b5c0",
   "metadata": {},
   "outputs": [],
   "source": [
    "# Save all modifications to the \"keyword_ishowspeed_tweets.csv\" file\n",
    "df.to_csv(\"keyword_ishowspeed_tweets.csv\", index=False)"
   ]
  },
  {
   "cell_type": "code",
   "execution_count": 41,
   "id": "f0016654-54bd-40da-a0e1-04f8cee4512b",
   "metadata": {},
   "outputs": [
    {
     "name": "stdout",
     "output_type": "stream",
     "text": [
      "                                      translated_text  sentiment_score  \\\n",
      "0   🚨| WATCH: Speed just met Fabrizio Romano and g...             0.00   \n",
      "1   Khabib & IShowSpeed wtf \\n#UCLfinal  🤯 https:/...            -0.50   \n",
      "2   Ishowspeed is currently celebrating the victor...            -0.30   \n",
      "3   Ishowspeed raised the trophy of the Champions ...             0.00   \n",
      "4   Usain Bolt has offered IShowSpeed private coac...             0.00   \n",
      "5   iShowSpeed \"One Kiss Is All It Takes\" Rage (20...             0.00   \n",
      "6   🇺🇸 Ishowspeed x desired gifted 🇫🇷\\n\\nTwo geniu...             0.50   \n",
      "7   iShowSpeed, American YouTuber,  Stands with  P...             0.00   \n",
      "8   IShowSpeed linking up with Dembélé 🇫🇷 before t...             0.05   \n",
      "9   IShowSpeed met Fabrizio Romano and got him to ...             0.00   \n",
      "10  🚨 Ishowspeed's reaction after the magnificent ...             1.00   \n",
      "11  Ishowspeed lift a UCL trophy before Arsenal 😭😭...             0.00   \n",
      "12  Achraf Hakimi agreed to race with Ishowspeed.🤣...             0.00   \n",
      "13  IShowSpeed just met Tom Brady and his entire f...             0.00   \n",
      "14  Ishowspeed offered the footballer Ousmane Demb...             0.00   \n",
      "15  The meeting between Désiré Doué and Ishowspeed...             0.65   \n",
      "16   Marcelo with IShowSpeed. https://t.co/L9bJgwvskR             0.00   \n",
      "17  “I’m from Israel”  \\n\\niShowSpeed: “….Free Pal...             0.00   \n",
      "18  iShowSpeed launched himself into his setup aft...             0.00   \n",
      "19  iShowSpeed understood what his Brazilian frien...             0.00   \n",
      "20  #KeralaBlasters legend @Humey_7's Instagram st...             0.00   \n",
      "21   Los Colgaos x ishowspeed https://t.co/LZsSFMFYKy             0.00   \n",
      "22  Remember when Ronaldo scored against Germany a...             0.00   \n",
      "23  IShowSpeed has officially hit 40 million subs ...             0.00   \n",
      "24  ishowspeed laser/lazer eyes gif (made by me) h...             0.00   \n",
      "25  iShowSpeed couldn’t believe his eyes 💀\\n https...             0.00   \n",
      "26  iShowSpeed, American YouTuber,  Stands with  P...             0.00   \n",
      "27  iShowSpeed was gifted a \"FREE PALESTINE\" shirt...             0.50   \n",
      "28  @HedorahTheSm0g is it tho https://t.co/S9R5KcjlcA             0.00   \n",
      "29  this was the first clip i ever saw from ishows...             0.25   \n",
      "30  iShowSpeed, American YouTuber,  Stands with  P...             0.00   \n",
      "31  🚨 Ishowspeed has just crossed the 40 million s...             0.55   \n",
      "32  Ishowspeed can be this calm? Love is a beautif...             0.55   \n",
      "\n",
      "   sentiment_label  \n",
      "0          Neutral  \n",
      "1         Negative  \n",
      "2         Negative  \n",
      "3          Neutral  \n",
      "4          Neutral  \n",
      "5          Neutral  \n",
      "6         Positive  \n",
      "7          Neutral  \n",
      "8          Neutral  \n",
      "9          Neutral  \n",
      "10        Positive  \n",
      "11         Neutral  \n",
      "12         Neutral  \n",
      "13         Neutral  \n",
      "14         Neutral  \n",
      "15        Positive  \n",
      "16         Neutral  \n",
      "17         Neutral  \n",
      "18         Neutral  \n",
      "19         Neutral  \n",
      "20         Neutral  \n",
      "21         Neutral  \n",
      "22         Neutral  \n",
      "23         Neutral  \n",
      "24         Neutral  \n",
      "25         Neutral  \n",
      "26         Neutral  \n",
      "27        Positive  \n",
      "28         Neutral  \n",
      "29        Positive  \n",
      "30         Neutral  \n",
      "31        Positive  \n",
      "32        Positive  \n"
     ]
    }
   ],
   "source": [
    "from textblob import TextBlob\n",
    "\n",
    "# Define a function to get sentiment polarity\n",
    "def get_sentiment(text):\n",
    "    blob = TextBlob(text)\n",
    "    return blob.sentiment.polarity\n",
    "\n",
    "# Apply sentiment analysis on translated text\n",
    "df[\"sentiment_score\"] = df[\"translated_text\"].apply(get_sentiment)\n",
    "\n",
    "# Label sentiments\n",
    "def label_sentiment(score):\n",
    "    if score > 0.1:\n",
    "        return \"Positive\"\n",
    "    elif score < -0.1:\n",
    "        return \"Negative\"\n",
    "    else:\n",
    "        return \"Neutral\"\n",
    "\n",
    "df[\"sentiment_label\"] = df[\"sentiment_score\"].apply(label_sentiment)\n",
    "print(df[['translated_text', 'sentiment_score', 'sentiment_label']])"
   ]
  },
  {
   "cell_type": "code",
   "execution_count": 43,
   "id": "3d22996c-af1c-4bcc-81ee-416c88cf0a22",
   "metadata": {},
   "outputs": [],
   "source": [
    "# Save the sentiment scores and labels to the \"keyword_ishowspeed_tweets.csv\" file\n",
    "df.to_csv(\"keyword_ishowspeed_tweets.csv\", index=False)"
   ]
  },
  {
   "cell_type": "code",
   "execution_count": 55,
   "id": "29ac8fa7-7280-4108-a50e-49603aaf9d7b",
   "metadata": {},
   "outputs": [
    {
     "name": "stdout",
     "output_type": "stream",
     "text": [
      "[<class 'pandas._libs.tslibs.timestamps.Timestamp'>]\n"
     ]
    }
   ],
   "source": [
    "# Second collection of tweets\n",
    "# Convert 'created_at' to datetime format\n",
    "df.loc[18:, \"created_at\"] = pd.to_datetime(df.loc[18:, \"created_at\"], format=\"%a %b %d %H:%M:%S %z %Y\")\n",
    "\n",
    "df.to_csv(\"keyword_ishowspeed_tweets.csv\", index=False)"
   ]
  },
  {
   "cell_type": "code",
   "execution_count": 10,
   "id": "9bcde193-0a45-4f21-bff4-8862f8ddb8c6",
   "metadata": {},
   "outputs": [],
   "source": [
    "# Kernel was resetted\n",
    "import pandas as pd\n",
    "\n",
    "df = pd.read_csv(\"keyword_ishowspeed_tweets.csv\")"
   ]
  },
  {
   "cell_type": "code",
   "execution_count": 11,
   "id": "31e5e43e-8053-437d-9bac-0d81d414d90e",
   "metadata": {},
   "outputs": [
    {
     "name": "stdout",
     "output_type": "stream",
     "text": [
      "[<class 'pandas._libs.tslibs.timestamps.Timestamp'>]\n"
     ]
    }
   ],
   "source": [
    "df[\"created_at\"] = pd.to_datetime(df[\"created_at\"], utc=True, errors=\"coerce\")\n",
    "print(df[\"created_at\"].apply(type).unique())\n",
    "\n",
    "df[\"date\"] = df[\"created_at\"].dt.date"
   ]
  },
  {
   "cell_type": "code",
   "execution_count": 12,
   "id": "5d7e5830-1fee-48b8-800c-0f50f38ce489",
   "metadata": {},
   "outputs": [],
   "source": [
    "# Save the dates to the \"keyword_ishowspeed_tweets.csv\" file\n",
    "df.to_csv(\"keyword_ishowspeed_tweets.csv\", index=False)"
   ]
  },
  {
   "cell_type": "code",
   "execution_count": 13,
   "id": "a6549fcf-016f-4285-8a18-d8e2981a9c65",
   "metadata": {},
   "outputs": [
    {
     "data": {
      "image/png": "[encoded data removed]",
      "text/plain": [
       "<Figure size 640x480 with 1 Axes>"
      ]
     },
     "metadata": {},
     "output_type": "display_data"
    }
   ],
   "source": [
    "import seaborn as sns\n",
    "import matplotlib.pyplot as plt\n",
    "\n",
    "# Count of each sentiment\n",
    "sns.countplot(data=df, x=\"sentiment_label\", hue=\"sentiment_label\", palette=\"coolwarm\")\n",
    "plt.title(\"Sentiment Distribution for IShowSpeed Mentions\")\n",
    "plt.xlabel(\"Sentiment\")\n",
    "plt.ylabel(\"Tweet Count\")\n",
    "plt.show()"
   ]
  },
  {
   "cell_type": "code",
   "execution_count": 14,
   "id": "2db0b6e2-65f7-4e8e-a344-faa0e91bc69b",
   "metadata": {},
   "outputs": [
    {
     "data": {
      "image/png": "[encoded data removed]",
      "text/plain": [
       "<Figure size 1200x600 with 1 Axes>"
      ]
     },
     "metadata": {},
     "output_type": "display_data"
    }
   ],
   "source": [
    "# Group by date and sentiment\n",
    "trend = df.groupby([\"date\", \"sentiment_label\"]).size().unstack().fillna(0)\n",
    "\n",
    "# Plot sentiment trend\n",
    "trend.plot(kind=\"line\", marker='o', figsize=(12, 6))\n",
    "plt.title(\"Sentiment Trend Over Time for IShowSpeed\")\n",
    "plt.xlabel(\"Date\")\n",
    "plt.ylabel(\"Tweet Count\")\n",
    "plt.legend(title=\"Sentiment\")\n",
    "plt.grid(True)\n",
    "plt.show()"
   ]
  },
  {
   "cell_type": "code",
   "execution_count": null,
   "id": "3772688d-07da-4651-baa0-8762967e0f1f",
   "metadata": {},
   "outputs": [],
   "source": [
    "# Neutral sentiment comes from news on IShowSpeed\n",
    "# Positive sentiment is likely detected from tweets seeming to praise IShowSpeed\n",
    "# Negative sentiment is likely detected from tweets containing \"inappropriate\" words like damn and wtf, not necessarily tweets mentioning IShowSpeed negatively"
   ]
  }
 ],
 "metadata": {
  "kernelspec": {
   "display_name": "Python 3 (ipykernel)",
   "language": "python",
   "name": "python3"
  },
  "language_info": {
   "codemirror_mode": {
    "name": "ipython",
    "version": 3
   },
   "file_extension": ".py",
   "mimetype": "text/x-python",
   "name": "python",
   "nbconvert_exporter": "python",
   "pygments_lexer": "ipython3",
   "version": "3.12.9"
  }
 },
 "nbformat": 4,
 "nbformat_minor": 5
}
